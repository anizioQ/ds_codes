{
  "nbformat": 4,
  "nbformat_minor": 0,
  "metadata": {
    "colab": {
      "name": "Regressao_Linear_Simples.ipynb",
      "provenance": [],
      "collapsed_sections": [],
      "authorship_tag": "ABX9TyPzztJVLDNLJgjdJvPNMZMP",
      "include_colab_link": true
    },
    "kernelspec": {
      "name": "python3",
      "display_name": "Python 3"
    }
  },
  "cells": [
    {
      "cell_type": "markdown",
      "metadata": {
        "id": "view-in-github",
        "colab_type": "text"
      },
      "source": [
        "<a href=\"https://colab.research.google.com/github/anizioQ/ds_codes/blob/master/Regressao_Linear_Simples.ipynb\" target=\"_parent\"><img src=\"https://colab.research.google.com/assets/colab-badge.svg\" alt=\"Open In Colab\"/></a>"
      ]
    },
    {
      "cell_type": "markdown",
      "metadata": {
        "id": "rBzA689G-lb6"
      },
      "source": [
        "#**Os dados**"
      ]
    },
    {
      "cell_type": "code",
      "metadata": {
        "id": "aSZV1N3TSudI"
      },
      "source": [
        "import numpy as np"
      ],
      "execution_count": null,
      "outputs": []
    },
    {
      "cell_type": "code",
      "metadata": {
        "id": "oGrMMhlwWIx4"
      },
      "source": [
        "x = np.array( [ i for i in range( 0,5 ) ] )\n",
        "y = np.array( [ i for i in range( 0,5 ) ] )"
      ],
      "execution_count": null,
      "outputs": []
    },
    {
      "cell_type": "code",
      "metadata": {
        "colab": {
          "base_uri": "https://localhost:8080/",
          "height": 282
        },
        "id": "mulWyTugZCgm",
        "outputId": "5c55a8a4-adf9-4838-8137-6844e1c71603"
      },
      "source": [
        "\n",
        "import matplotlib.pyplot as plt\n",
        "plt.scatter( x, y )\n"
      ],
      "execution_count": null,
      "outputs": [
        {
          "output_type": "execute_result",
          "data": {
            "text/plain": [
              "<matplotlib.collections.PathCollection at 0x7f684f4fc4a8>"
            ]
          },
          "metadata": {
            "tags": []
          },
          "execution_count": 85
        },
        {
          "output_type": "display_data",
          "data": {
            "image/png": "[encoded data removed]",
            "text/plain": [
              "<Figure size 432x288 with 1 Axes>"
            ]
          },
          "metadata": {
            "tags": [],
            "needs_background": "light"
          }
        }
      ]
    },
    {
      "cell_type": "markdown",
      "metadata": {
        "id": "7rxlsyOr9SJm"
      },
      "source": [
        "#**A reta**"
      ]
    },
    {
      "cell_type": "code",
      "metadata": {
        "colab": {
          "base_uri": "https://localhost:8080/",
          "height": 282
        },
        "id": "KwN_pTt7pCB3",
        "outputId": "ad735c67-3c1a-4192-f1b0-0d6283994e53"
      },
      "source": [
        "from random import uniform\n",
        "\n",
        "ws = np.array( [ round( uniform( -1, 1 ),3 ) for i in range( 2 ) ] )\n",
        "\n",
        "def hipotese( w0, w1, x):\n",
        "  return w0 + w1 * x\n",
        "\n",
        "plt.scatter( x, y )\n",
        "plt.plot( x, hipotese(ws[0], ws[1], x) )"
      ],
      "execution_count": null,
      "outputs": [
        {
          "output_type": "execute_result",
          "data": {
            "text/plain": [
              "[<matplotlib.lines.Line2D at 0x7f684f3e82e8>]"
            ]
          },
          "metadata": {
            "tags": []
          },
          "execution_count": 140
        },
        {
          "output_type": "display_data",
          "data": {
            "image/png": "[encoded data removed]",
            "text/plain": [
              "<Figure size 432x288 with 1 Axes>"
            ]
          },
          "metadata": {
            "tags": [],
            "needs_background": "light"
          }
        }
      ]
    },
    {
      "cell_type": "markdown",
      "metadata": {
        "id": "YStIe42G-xTC"
      },
      "source": [
        "#**O erro**"
      ]
    },
    {
      "cell_type": "code",
      "metadata": {
        "colab": {
          "base_uri": "https://localhost:8080/"
        },
        "id": "TrXFDpf23-Rm",
        "outputId": "74de47b4-6810-4a83-dbd3-f6a4dc64a99c"
      },
      "source": [
        "def MSE(w0, w1, x, y):\n",
        "  return sqrt(np.sum(( hipotese( w0, w1, x ) - y)**2)/len(x))\n",
        "\n",
        "MSE(ws[0], ws[1], x, y)"
      ],
      "execution_count": null,
      "outputs": [
        {
          "output_type": "execute_result",
          "data": {
            "text/plain": [
              "7.3300526891149e-14"
            ]
          },
          "metadata": {
            "tags": []
          },
          "execution_count": 200
        }
      ]
    },
    {
      "cell_type": "markdown",
      "metadata": {
        "id": "3SB106YUCJRN"
      },
      "source": [
        "#**O gradiente**"
      ]
    },
    {
      "cell_type": "code",
      "metadata": {
        "id": "ybJSHyrQCX7U"
      },
      "source": [
        "def Gradiente(w0, w1, x, y, alpha=0.1, epocas=120):\n",
        "  custo = []\n",
        "  for i in range(epocas):\n",
        "    erroW0 = 0\n",
        "    erroW1 = 0\n",
        "    erroW0 = np.sum(hipotese(w0, w1,x) - y)\n",
        "    erroW1 = np.sum((hipotese(w0, w1,x) - y)*x)\n",
        "    custo.append(erroW0)\n",
        "    w0 = w0 - alpha * (1/len(x)) * erroW0\n",
        "    w1 = w1 - alpha * (1/len(x)) * erroW1\n",
        "  return w0, w1, custo"
      ],
      "execution_count": null,
      "outputs": []
    },
    {
      "cell_type": "code",
      "metadata": {
        "id": "YE3xxGatHsXT"
      },
      "source": [
        "ws[0], ws[1], custo = Gradiente(ws[0], ws[1], x, y)"
      ],
      "execution_count": null,
      "outputs": []
    },
    {
      "cell_type": "code",
      "metadata": {
        "colab": {
          "base_uri": "https://localhost:8080/",
          "height": 282
        },
        "id": "73O5Hkg1IA6B",
        "outputId": "2f7ac526-ed81-49eb-ae40-ed41f8a47c22"
      },
      "source": [
        "plt.scatter(x, y)\n",
        "plt.plot(x, hipotese(ws[0], ws[1], x))"
      ],
      "execution_count": null,
      "outputs": [
        {
          "output_type": "execute_result",
          "data": {
            "text/plain": [
              "[<matplotlib.lines.Line2D at 0x7f684ea02390>]"
            ]
          },
          "metadata": {
            "tags": []
          },
          "execution_count": 204
        },
        {
          "output_type": "display_data",
          "data": {
            "image/png": "[encoded data removed]",
            "text/plain": [
              "<Figure size 432x288 with 1 Axes>"
            ]
          },
          "metadata": {
            "tags": [],
            "needs_background": "light"
          }
        }
      ]
    },
    {
      "cell_type": "code",
      "metadata": {
        "colab": {
          "base_uri": "https://localhost:8080/"
        },
        "id": "T2PioLkBI4ZL",
        "outputId": "9569e62e-6f6c-45f1-f6a8-85a70f08cbcb"
      },
      "source": [
        "MSE(ws[0], ws[1], x, y)"
      ],
      "execution_count": null,
      "outputs": [
        {
          "output_type": "execute_result",
          "data": {
            "text/plain": [
              "1.9443083879723018e-15"
            ]
          },
          "metadata": {
            "tags": []
          },
          "execution_count": 205
        }
      ]
    },
    {
      "cell_type": "markdown",
      "metadata": {
        "id": "6dqMVo3UPgBU"
      },
      "source": [
        "#**O custo**"
      ]
    },
    {
      "cell_type": "code",
      "metadata": {
        "colab": {
          "base_uri": "https://localhost:8080/",
          "height": 293
        },
        "id": "kLSIbFq-NqsF",
        "outputId": "4031b4e1-bd54-453c-ceb6-bdd13adf4cdd"
      },
      "source": [
        "plt.plot([i for i in range(len(custo))], np.array(custo)**2)"
      ],
      "execution_count": null,
      "outputs": [
        {
          "output_type": "execute_result",
          "data": {
            "text/plain": [
              "[<matplotlib.lines.Line2D at 0x7f684f335198>]"
            ]
          },
          "metadata": {
            "tags": []
          },
          "execution_count": 208
        },
        {
          "output_type": "display_data",
          "data": {
            "image/png": "[encoded data removed]",
            "text/plain": [
              "<Figure size 432x288 with 1 Axes>"
            ]
          },
          "metadata": {
            "tags": [],
            "needs_background": "light"
          }
        }
      ]
    },
    {
      "cell_type": "markdown",
      "metadata": {
        "id": "N5cjgRhX9iA_"
      },
      "source": [
        "#**A predição**"
      ]
    },
    {
      "cell_type": "code",
      "metadata": {
        "colab": {
          "base_uri": "https://localhost:8080/"
        },
        "id": "kn3qGwotJ_WH",
        "outputId": "ea78e745-30f1-494f-91bc-1c359347728c"
      },
      "source": [
        "hipotese(ws[0], ws[1], 8)"
      ],
      "execution_count": null,
      "outputs": [
        {
          "output_type": "execute_result",
          "data": {
            "text/plain": [
              "7.999999999999994"
            ]
          },
          "metadata": {
            "tags": []
          },
          "execution_count": 206
        }
      ]
    }
  ]
}