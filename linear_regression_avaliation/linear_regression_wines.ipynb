{
  "nbformat": 4,
  "nbformat_minor": 0,
  "metadata": {
    "colab": {
      "name": "linear_regression_wines.ipynb",
      "provenance": [],
      "collapsed_sections": []
    },
    "kernelspec": {
      "name": "python3",
      "display_name": "Python 3"
    }
  },
  "cells": [
    {
      "cell_type": "markdown",
      "metadata": {
        "id": "6Yh9W0Jl5uAS",
        "colab_type": "text"
      },
      "source": [
        "# Regression Wine Quality"
      ]
    },
    {
      "cell_type": "markdown",
      "metadata": {
        "id": "Hk9i0Byu_oEL",
        "colab_type": "text"
      },
      "source": [
        "## Importando bibliotecas"
      ]
    },
    {
      "cell_type": "code",
      "metadata": {
        "id": "N7qo9rc4BWmG",
        "colab_type": "code",
        "outputId": "6547cbd5-541d-4c68-9a74-2a9ef67617d3",
        "colab": {
          "base_uri": "https://localhost:8080/",
          "height": 71
        }
      },
      "source": [
        "import pandas as pd\n",
        "import numpy as np\n",
        "import matplotlib.pyplot as plt\n",
        "import seaborn as sns\n",
        "\n",
        "import statsmodels.api as sm\n",
        "import statsmodels.stats.api as sms\n",
        "from statsmodels.stats.outliers_influence import variance_inflation_factor\n",
        "from statsmodels.compat import lzip\n",
        "from sklearn.preprocessing  import  StandardScaler \n",
        "from sklearn.linear_model import LinearRegression\n",
        "from sklearn.metrics import r2_score\n",
        "from scipy.stats import kurtosis,skew,normaltest,jarque_bera"
      ],
      "execution_count": 0,
      "outputs": [
        {
          "output_type": "stream",
          "text": [
            "/usr/local/lib/python3.6/dist-packages/statsmodels/tools/_testing.py:19: FutureWarning: pandas.util.testing is deprecated. Use the functions in the public API at pandas.testing instead.\n",
            "  import pandas.util.testing as tm\n"
          ],
          "name": "stderr"
        }
      ]
    },
    {
      "cell_type": "markdown",
      "metadata": {
        "id": "Hv553us7_uOu",
        "colab_type": "text"
      },
      "source": [
        "## Carregando a base de dados"
      ]
    },
    {
      "cell_type": "code",
      "metadata": {
        "id": "QAuRM84pg4Pn",
        "colab_type": "code",
        "colab": {}
      },
      "source": [
        "raw = pd.read_csv('winequality-white.csv', delimiter=';')"
      ],
      "execution_count": 0,
      "outputs": []
    },
    {
      "cell_type": "code",
      "metadata": {
        "id": "dvHLvV_zgXfD",
        "colab_type": "code",
        "colab": {}
      },
      "source": [
        "df = raw.copy()"
      ],
      "execution_count": 0,
      "outputs": []
    },
    {
      "cell_type": "markdown",
      "metadata": {
        "id": "NY-u8SmNj4NL",
        "colab_type": "text"
      },
      "source": [
        "## Breve manipulação na base de dados"
      ]
    },
    {
      "cell_type": "code",
      "metadata": {
        "id": "i9crF_oWS4tq",
        "colab_type": "code",
        "colab": {}
      },
      "source": [
        "df.columns = raw.columns.str.replace(' ','_')"
      ],
      "execution_count": 0,
      "outputs": []
    },
    {
      "cell_type": "code",
      "metadata": {
        "id": "pmbT5q5A4f9f",
        "colab_type": "code",
        "outputId": "b008c3fc-f192-4b1b-e03f-b390d1f2ee6c",
        "colab": {
          "base_uri": "https://localhost:8080/",
          "height": 340
        }
      },
      "source": [
        "df.info()"
      ],
      "execution_count": 0,
      "outputs": [
        {
          "output_type": "stream",
          "text": [
            "<class 'pandas.core.frame.DataFrame'>\n",
            "RangeIndex: 4898 entries, 0 to 4897\n",
            "Data columns (total 12 columns):\n",
            " #   Column                Non-Null Count  Dtype  \n",
            "---  ------                --------------  -----  \n",
            " 0   fixed_acidity         4898 non-null   float64\n",
            " 1   volatile_acidity      4898 non-null   float64\n",
            " 2   citric_acid           4898 non-null   float64\n",
            " 3   residual_sugar        4898 non-null   float64\n",
            " 4   chlorides             4898 non-null   float64\n",
            " 5   free_sulfur_dioxide   4898 non-null   float64\n",
            " 6   total_sulfur_dioxide  4898 non-null   float64\n",
            " 7   density               4898 non-null   float64\n",
            " 8   pH                    4898 non-null   float64\n",
            " 9   sulphates             4898 non-null   float64\n",
            " 10  alcohol               4898 non-null   float64\n",
            " 11  quality               4898 non-null   int64  \n",
            "dtypes: float64(11), int64(1)\n",
            "memory usage: 459.3 KB\n"
          ],
          "name": "stdout"
        }
      ]
    },
    {
      "cell_type": "code",
      "metadata": {
        "id": "kqwRePR7S2ws",
        "colab_type": "code",
        "colab": {}
      },
      "source": [
        "df_X = df.copy()"
      ],
      "execution_count": 0,
      "outputs": []
    },
    {
      "cell_type": "code",
      "metadata": {
        "id": "sBvydxtPURXd",
        "colab_type": "code",
        "colab": {}
      },
      "source": [
        "#padronizando variáveis numéricas\n",
        "scaler = StandardScaler()\n",
        "\n",
        "dependent_cols = df_X.drop('quality', axis = 1).columns\n",
        "numerical_data = df_X[dependent_cols].copy()\n",
        "\n",
        "transformed_x = scaler.fit_transform(numerical_data)\n",
        "df_X.loc[:, dependent_cols] = transformed_x"
      ],
      "execution_count": 0,
      "outputs": []
    },
    {
      "cell_type": "code",
      "metadata": {
        "id": "kxUTdNee5US1",
        "colab_type": "code",
        "outputId": "c261b16d-baad-4b98-98d8-a98779945c3b",
        "colab": {
          "base_uri": "https://localhost:8080/",
          "height": 459
        }
      },
      "source": [
        "labels = df_X.loc[:, dependent_cols].columns\n",
        "\n",
        "fig = plt.figure(figsize=(6,6))\n",
        "ax = sns.boxplot(data=transformed_x, orient=\"v\", palette=\"cividis\")\n",
        "ax.set_xticklabels(labels, rotation=45);\n",
        "plt.title(\"standardized variables\", fontsize=15)\n",
        "ax.grid()"
      ],
      "execution_count": 0,
      "outputs": [
        {
          "output_type": "display_data",
          "data": {
            "image/png": "[encoded data removed]",
            "text/plain": [
              "<Figure size 432x432 with 1 Axes>"
            ]
          },
          "metadata": {
            "tags": [],
            "needs_background": "light"
          }
        }
      ]
    },
    {
      "cell_type": "code",
      "metadata": {
        "id": "dmofZeRbwlJZ",
        "colab_type": "code",
        "outputId": "903d2297-1ebc-4c9d-e644-900012b4f9a1",
        "colab": {
          "base_uri": "https://localhost:8080/",
          "height": 34
        }
      },
      "source": [
        "df_X.shape"
      ],
      "execution_count": 0,
      "outputs": [
        {
          "output_type": "execute_result",
          "data": {
            "text/plain": [
              "(4898, 12)"
            ]
          },
          "metadata": {
            "tags": []
          },
          "execution_count": 11
        }
      ]
    },
    {
      "cell_type": "code",
      "metadata": {
        "id": "PZBngHO6ZGTC",
        "colab_type": "code",
        "outputId": "62cfeddc-d55c-4f54-8ca6-e73536648652",
        "colab": {
          "base_uri": "https://localhost:8080/",
          "height": 520
        }
      },
      "source": [
        "plt.figure(figsize=(10, 7))\n",
        "sns.heatmap(df_X.corr(), annot=True,vmin=-1, vmax=1,center= 0, cmap='cividis')\n",
        "plt.show()"
      ],
      "execution_count": 0,
      "outputs": [
        {
          "output_type": "display_data",
          "data": {
            "image/png": "[encoded data removed]",
            "text/plain": [
              "<Figure size 720x504 with 2 Axes>"
            ]
          },
          "metadata": {
            "tags": [],
            "needs_background": "light"
          }
        }
      ]
    },
    {
      "cell_type": "code",
      "metadata": {
        "id": "3AZNGJ-Y74ce",
        "colab_type": "code",
        "colab": {}
      },
      "source": [
        "#definição de variáveis\n",
        "y_var = 'quality'\n",
        "x_var = dependent_cols"
      ],
      "execution_count": 0,
      "outputs": []
    },
    {
      "cell_type": "markdown",
      "metadata": {
        "id": "TskbVs5XkpHQ",
        "colab_type": "text"
      },
      "source": [
        "## Regressão linear - scikit learn"
      ]
    },
    {
      "cell_type": "code",
      "metadata": {
        "id": "G0K44GlOTiCc",
        "colab_type": "code",
        "colab": {}
      },
      "source": [
        "y = df_X[y_var]\n",
        "x = df_X[x_var]\n",
        "\n",
        "reg = LinearRegression()\n",
        "model_skt = reg.fit(x,y)"
      ],
      "execution_count": 0,
      "outputs": []
    },
    {
      "cell_type": "code",
      "metadata": {
        "id": "5Elu84wlWcsg",
        "colab_type": "code",
        "colab": {}
      },
      "source": [
        "#previsão e resíduo\n",
        "pred = model_skt.predict(x)\n",
        "resid = y - pred"
      ],
      "execution_count": 0,
      "outputs": []
    },
    {
      "cell_type": "code",
      "metadata": {
        "id": "pJ3EvqtWmnr9",
        "colab_type": "code",
        "outputId": "a9097d10-7226-4e2b-9586-606a8f76d9a1",
        "colab": {
          "base_uri": "https://localhost:8080/",
          "height": 204
        }
      },
      "source": [
        "#coeficientes\n",
        "list(zip(x.columns, np.around(model_skt.coef_, 4)))"
      ],
      "execution_count": 0,
      "outputs": [
        {
          "output_type": "execute_result",
          "data": {
            "text/plain": [
              "[('fixed_acidity', 0.0553),\n",
              " ('volatile_acidity', -0.1878),\n",
              " ('citric_acid', 0.0027),\n",
              " ('residual_sugar', 0.4132),\n",
              " ('chlorides', -0.0054),\n",
              " ('free_sulfur_dioxide', 0.0635),\n",
              " ('total_sulfur_dioxide', -0.0121),\n",
              " ('density', -0.4494),\n",
              " ('pH', 0.1036),\n",
              " ('sulphates', 0.0721),\n",
              " ('alcohol', 0.2381)]"
            ]
          },
          "metadata": {
            "tags": []
          },
          "execution_count": 16
        }
      ]
    },
    {
      "cell_type": "code",
      "metadata": {
        "id": "Ao5yqI4cnoPn",
        "colab_type": "code",
        "outputId": "57c6dfdf-9a4b-4c15-a90b-ffc9c38b3e93",
        "colab": {
          "base_uri": "https://localhost:8080/",
          "height": 34
        }
      },
      "source": [
        "print('intercept model:', round(model_skt.intercept_, 4))"
      ],
      "execution_count": 0,
      "outputs": [
        {
          "output_type": "stream",
          "text": [
            "intercept model: 5.8779\n"
          ],
          "name": "stdout"
        }
      ]
    },
    {
      "cell_type": "code",
      "metadata": {
        "id": "4XmvNmctWjSJ",
        "colab_type": "code",
        "outputId": "bf8f46b0-9f5b-4cd4-b80f-e05b72212537",
        "colab": {
          "base_uri": "https://localhost:8080/",
          "height": 34
        }
      },
      "source": [
        "#coeficiente de determinação - r2\n",
        "print('r2:', round(r2_score(y, pred),3))"
      ],
      "execution_count": 0,
      "outputs": [
        {
          "output_type": "stream",
          "text": [
            "r2: 0.282\n"
          ],
          "name": "stdout"
        }
      ]
    },
    {
      "cell_type": "markdown",
      "metadata": {
        "id": "SMfxDxKcrRrz",
        "colab_type": "text"
      },
      "source": [
        "### Algumas premissas do modelo"
      ]
    },
    {
      "cell_type": "code",
      "metadata": {
        "id": "Y4fjC6jiHMv4",
        "colab_type": "code",
        "outputId": "12efb40f-6b56-43c1-e563-fd163185b92a",
        "colab": {
          "base_uri": "https://localhost:8080/",
          "height": 51
        }
      },
      "source": [
        "print('mean resid:', round(resid.mean(),3))\n",
        "print('std resid:', round(resid.std(),3))"
      ],
      "execution_count": 0,
      "outputs": [
        {
          "output_type": "stream",
          "text": [
            "mean resid: -0.0\n",
            "std resid: 0.751\n"
          ],
          "name": "stdout"
        }
      ]
    },
    {
      "cell_type": "code",
      "metadata": {
        "id": "JZFrirZeqYsn",
        "colab_type": "code",
        "outputId": "b2095582-969b-40a4-8419-10dcaf486afc",
        "colab": {
          "base_uri": "https://localhost:8080/",
          "height": 338
        }
      },
      "source": [
        "#normalidade do resíduo\n",
        "plt.figure(figsize=(8,5))\n",
        "plt.hist(resid,bins=500,edgecolor='silver')\n",
        "plt.title(\"resid\",fontsize=15)\n",
        "plt.show()"
      ],
      "execution_count": 0,
      "outputs": [
        {
          "output_type": "display_data",
          "data": {
            "image/png": "[encoded data removed]",
            "text/plain": [
              "<Figure size 576x360 with 1 Axes>"
            ]
          },
          "metadata": {
            "tags": [],
            "needs_background": "light"
          }
        }
      ]
    },
    {
      "cell_type": "code",
      "metadata": {
        "id": "f4T1JkpLt3VH",
        "colab_type": "code",
        "outputId": "f7768634-a046-4c0d-f220-77d89990493e",
        "colab": {
          "base_uri": "https://localhost:8080/",
          "height": 34
        }
      },
      "source": [
        "print('skew:', round(skew(resid),3))"
      ],
      "execution_count": 0,
      "outputs": [
        {
          "output_type": "stream",
          "text": [
            "skew: 0.073\n"
          ],
          "name": "stdout"
        }
      ]
    },
    {
      "cell_type": "code",
      "metadata": {
        "id": "CE6couGzjcBS",
        "colab_type": "code",
        "outputId": "b3cbe26f-80e9-4ace-e391-904c64f30ff9",
        "colab": {
          "base_uri": "https://localhost:8080/",
          "height": 51
        }
      },
      "source": [
        "print('kurtosis:', round(kurtosis(resid, fisher=False),3))\n",
        "print('kurtosis fisher:', round(kurtosis(resid),3))"
      ],
      "execution_count": 0,
      "outputs": [
        {
          "output_type": "stream",
          "text": [
            "kurtosis: 4.101\n",
            "kurtosis fisher: 1.101\n"
          ],
          "name": "stdout"
        }
      ]
    },
    {
      "cell_type": "code",
      "metadata": {
        "id": "5kk5wWRqr5wx",
        "colab_type": "code",
        "outputId": "dea82aeb-c875-4183-aec1-0237d4b484e3",
        "colab": {
          "base_uri": "https://localhost:8080/",
          "height": 51
        }
      },
      "source": [
        "print('jarque bera test:', round(jarque_bera(resid)[0],3))\n",
        "print('p jarque bera:', jarque_bera(resid)[1])"
      ],
      "execution_count": 0,
      "outputs": [
        {
          "output_type": "stream",
          "text": [
            "jarque bera test: 251.637\n",
            "p jarque bera: 0.0\n"
          ],
          "name": "stdout"
        }
      ]
    },
    {
      "cell_type": "code",
      "metadata": {
        "id": "bwNtGJUtwrEJ",
        "colab_type": "code",
        "outputId": "cb608e8b-7a4b-48a1-a399-ac9a13245b34",
        "colab": {
          "base_uri": "https://localhost:8080/",
          "height": 51
        }
      },
      "source": [
        "print('normaltest:', round(normaltest(resid)[0],3))\n",
        "print('p normaltest:', round(normaltest(resid)[1],3))"
      ],
      "execution_count": 0,
      "outputs": [
        {
          "output_type": "stream",
          "text": [
            "normaltest: 114.161\n",
            "p normaltest: 0.0\n"
          ],
          "name": "stdout"
        }
      ]
    },
    {
      "cell_type": "markdown",
      "metadata": {
        "id": "7LJ6ZQDzrYxn",
        "colab_type": "text"
      },
      "source": [
        "## Regressão linear - statsmodels"
      ]
    },
    {
      "cell_type": "code",
      "metadata": {
        "id": "dcSISoPfWymM",
        "colab_type": "code",
        "outputId": "533dea8e-777c-4d94-edd5-b0cc154bfa5a",
        "colab": {
          "base_uri": "https://localhost:8080/",
          "height": 654
        }
      },
      "source": [
        "y = df_X[y_var]\n",
        "x = df_X[x_var]\n",
        "x = sm.add_constant(x)\n",
        "\n",
        "model_sm = sm.OLS(y,x).fit()\n",
        "model_sm.summary()"
      ],
      "execution_count": 0,
      "outputs": [
        {
          "output_type": "execute_result",
          "data": {
            "text/html": [
              "<table class=\"simpletable\">\n",
              "<caption>OLS Regression Results</caption>\n",
              "<tr>\n",
              "  <th>Dep. Variable:</th>         <td>quality</td>     <th>  R-squared:         </th> <td>   0.282</td> \n",
              "</tr>\n",
              "<tr>\n",
              "  <th>Model:</th>                   <td>OLS</td>       <th>  Adj. R-squared:    </th> <td>   0.280</td> \n",
              "</tr>\n",
              "<tr>\n",
              "  <th>Method:</th>             <td>Least Squares</td>  <th>  F-statistic:       </th> <td>   174.3</td> \n",
              "</tr>\n",
              "<tr>\n",
              "  <th>Date:</th>             <td>Wed, 03 Jun 2020</td> <th>  Prob (F-statistic):</th>  <td>  0.00</td>  \n",
              "</tr>\n",
              "<tr>\n",
              "  <th>Time:</th>                 <td>19:38:28</td>     <th>  Log-Likelihood:    </th> <td> -5543.7</td> \n",
              "</tr>\n",
              "<tr>\n",
              "  <th>No. Observations:</th>      <td>  4898</td>      <th>  AIC:               </th> <td>1.111e+04</td>\n",
              "</tr>\n",
              "<tr>\n",
              "  <th>Df Residuals:</th>          <td>  4886</td>      <th>  BIC:               </th> <td>1.119e+04</td>\n",
              "</tr>\n",
              "<tr>\n",
              "  <th>Df Model:</th>              <td>    11</td>      <th>                     </th>     <td> </td>    \n",
              "</tr>\n",
              "<tr>\n",
              "  <th>Covariance Type:</th>      <td>nonrobust</td>    <th>                     </th>     <td> </td>    \n",
              "</tr>\n",
              "</table>\n",
              "<table class=\"simpletable\">\n",
              "<tr>\n",
              "            <td></td>              <th>coef</th>     <th>std err</th>      <th>t</th>      <th>P>|t|</th>  <th>[0.025</th>    <th>0.975]</th>  \n",
              "</tr>\n",
              "<tr>\n",
              "  <th>const</th>                <td>    5.8779</td> <td>    0.011</td> <td>  547.502</td> <td> 0.000</td> <td>    5.857</td> <td>    5.899</td>\n",
              "</tr>\n",
              "<tr>\n",
              "  <th>fixed_acidity</th>        <td>    0.0553</td> <td>    0.018</td> <td>    3.139</td> <td> 0.002</td> <td>    0.021</td> <td>    0.090</td>\n",
              "</tr>\n",
              "<tr>\n",
              "  <th>volatile_acidity</th>     <td>   -0.1878</td> <td>    0.011</td> <td>  -16.373</td> <td> 0.000</td> <td>   -0.210</td> <td>   -0.165</td>\n",
              "</tr>\n",
              "<tr>\n",
              "  <th>citric_acid</th>          <td>    0.0027</td> <td>    0.012</td> <td>    0.231</td> <td> 0.818</td> <td>   -0.020</td> <td>    0.025</td>\n",
              "</tr>\n",
              "<tr>\n",
              "  <th>residual_sugar</th>       <td>    0.4132</td> <td>    0.038</td> <td>   10.825</td> <td> 0.000</td> <td>    0.338</td> <td>    0.488</td>\n",
              "</tr>\n",
              "<tr>\n",
              "  <th>chlorides</th>            <td>   -0.0054</td> <td>    0.012</td> <td>   -0.452</td> <td> 0.651</td> <td>   -0.029</td> <td>    0.018</td>\n",
              "</tr>\n",
              "<tr>\n",
              "  <th>free_sulfur_dioxide</th>  <td>    0.0635</td> <td>    0.014</td> <td>    4.422</td> <td> 0.000</td> <td>    0.035</td> <td>    0.092</td>\n",
              "</tr>\n",
              "<tr>\n",
              "  <th>total_sulfur_dioxide</th> <td>   -0.0121</td> <td>    0.016</td> <td>   -0.756</td> <td> 0.450</td> <td>   -0.044</td> <td>    0.019</td>\n",
              "</tr>\n",
              "<tr>\n",
              "  <th>density</th>              <td>   -0.4494</td> <td>    0.057</td> <td>   -7.879</td> <td> 0.000</td> <td>   -0.561</td> <td>   -0.338</td>\n",
              "</tr>\n",
              "<tr>\n",
              "  <th>pH</th>                   <td>    0.1036</td> <td>    0.016</td> <td>    6.513</td> <td> 0.000</td> <td>    0.072</td> <td>    0.135</td>\n",
              "</tr>\n",
              "<tr>\n",
              "  <th>sulphates</th>            <td>    0.0721</td> <td>    0.011</td> <td>    6.291</td> <td> 0.000</td> <td>    0.050</td> <td>    0.095</td>\n",
              "</tr>\n",
              "<tr>\n",
              "  <th>alcohol</th>              <td>    0.2381</td> <td>    0.030</td> <td>    7.988</td> <td> 0.000</td> <td>    0.180</td> <td>    0.297</td>\n",
              "</tr>\n",
              "</table>\n",
              "<table class=\"simpletable\">\n",
              "<tr>\n",
              "  <th>Omnibus:</th>       <td>114.161</td> <th>  Durbin-Watson:     </th> <td>   1.621</td>\n",
              "</tr>\n",
              "<tr>\n",
              "  <th>Prob(Omnibus):</th> <td> 0.000</td>  <th>  Jarque-Bera (JB):  </th> <td> 251.637</td>\n",
              "</tr>\n",
              "<tr>\n",
              "  <th>Skew:</th>          <td> 0.073</td>  <th>  Prob(JB):          </th> <td>2.28e-55</td>\n",
              "</tr>\n",
              "<tr>\n",
              "  <th>Kurtosis:</th>      <td> 4.101</td>  <th>  Cond. No.          </th> <td>    12.5</td>\n",
              "</tr>\n",
              "</table><br/><br/>Warnings:<br/>[1] Standard Errors assume that the covariance matrix of the errors is correctly specified."
            ],
            "text/plain": [
              "<class 'statsmodels.iolib.summary.Summary'>\n",
              "\"\"\"\n",
              "                            OLS Regression Results                            \n",
              "==============================================================================\n",
              "Dep. Variable:                quality   R-squared:                       0.282\n",
              "Model:                            OLS   Adj. R-squared:                  0.280\n",
              "Method:                 Least Squares   F-statistic:                     174.3\n",
              "Date:                Wed, 03 Jun 2020   Prob (F-statistic):               0.00\n",
              "Time:                        19:38:28   Log-Likelihood:                -5543.7\n",
              "No. Observations:                4898   AIC:                         1.111e+04\n",
              "Df Residuals:                    4886   BIC:                         1.119e+04\n",
              "Df Model:                          11                                         \n",
              "Covariance Type:            nonrobust                                         \n",
              "========================================================================================\n",
              "                           coef    std err          t      P>|t|      [0.025      0.975]\n",
              "----------------------------------------------------------------------------------------\n",
              "const                    5.8779      0.011    547.502      0.000       5.857       5.899\n",
              "fixed_acidity            0.0553      0.018      3.139      0.002       0.021       0.090\n",
              "volatile_acidity        -0.1878      0.011    -16.373      0.000      -0.210      -0.165\n",
              "citric_acid              0.0027      0.012      0.231      0.818      -0.020       0.025\n",
              "residual_sugar           0.4132      0.038     10.825      0.000       0.338       0.488\n",
              "chlorides               -0.0054      0.012     -0.452      0.651      -0.029       0.018\n",
              "free_sulfur_dioxide      0.0635      0.014      4.422      0.000       0.035       0.092\n",
              "total_sulfur_dioxide    -0.0121      0.016     -0.756      0.450      -0.044       0.019\n",
              "density                 -0.4494      0.057     -7.879      0.000      -0.561      -0.338\n",
              "pH                       0.1036      0.016      6.513      0.000       0.072       0.135\n",
              "sulphates                0.0721      0.011      6.291      0.000       0.050       0.095\n",
              "alcohol                  0.2381      0.030      7.988      0.000       0.180       0.297\n",
              "==============================================================================\n",
              "Omnibus:                      114.161   Durbin-Watson:                   1.621\n",
              "Prob(Omnibus):                  0.000   Jarque-Bera (JB):              251.637\n",
              "Skew:                           0.073   Prob(JB):                     2.28e-55\n",
              "Kurtosis:                       4.101   Cond. No.                         12.5\n",
              "==============================================================================\n",
              "\n",
              "Warnings:\n",
              "[1] Standard Errors assume that the covariance matrix of the errors is correctly specified.\n",
              "\"\"\""
            ]
          },
          "metadata": {
            "tags": []
          },
          "execution_count": 25
        }
      ]
    },
    {
      "cell_type": "code",
      "metadata": {
        "id": "3iZrmoTKJdGe",
        "colab_type": "code",
        "outputId": "69933be7-3340-421a-ae33-2be1f78562b5",
        "colab": {
          "base_uri": "https://localhost:8080/",
          "height": 338
        }
      },
      "source": [
        "plt.figure(figsize=(8,5))\n",
        "plt.hist(model_sm.resid,bins=500,edgecolor='silver')\n",
        "plt.title(\"resid\",fontsize=15)\n",
        "plt.show()"
      ],
      "execution_count": 0,
      "outputs": [
        {
          "output_type": "display_data",
          "data": {
            "image/png": "[encoded data removed]",
            "text/plain": [
              "<Figure size 576x360 with 1 Axes>"
            ]
          },
          "metadata": {
            "tags": [],
            "needs_background": "light"
          }
        }
      ]
    },
    {
      "cell_type": "code",
      "metadata": {
        "id": "L4QLwe5gGjHO",
        "colab_type": "code",
        "outputId": "3e3359c0-63b5-4ce6-c4f6-e69f2b775df1",
        "colab": {
          "base_uri": "https://localhost:8080/",
          "height": 334
        }
      },
      "source": [
        "#vis homocedasticidade\n",
        "plt.figure(figsize=(8,5))\n",
        "plt.scatter(y=model_sm.resid, x=model_sm.predict(x), color='silver', s=50, alpha=.6)\n",
        "plt.hlines(y=0, xmin=-10, xmax=15, color='orange')\n",
        "plt.ylabel('resíduo')\n",
        "plt.xlabel('predict')\n",
        "plt.show()"
      ],
      "execution_count": 0,
      "outputs": [
        {
          "output_type": "display_data",
          "data": {
            "image/png": "[encoded data removed]",
            "text/plain": [
              "<Figure size 576x360 with 1 Axes>"
            ]
          },
          "metadata": {
            "tags": [],
            "needs_background": "light"
          }
        }
      ]
    },
    {
      "cell_type": "code",
      "metadata": {
        "id": "Az3pMYecNP8u",
        "colab_type": "code",
        "outputId": "31b7a859-c383-4c00-90d0-184831aae48a",
        "colab": {
          "base_uri": "https://localhost:8080/",
          "height": 51
        }
      },
      "source": [
        "#teste de homocedasticidade\n",
        "print('goldfeld quandt test:', round(sms.het_goldfeldquandt(model_sm.resid, \n",
        "                                                            model_sm.model.exog)[0],3))\n",
        "print('p goldfeld quandt:', sms.het_goldfeldquandt(model_sm.resid, \n",
        "                                                   model_sm.model.exog)[1])"
      ],
      "execution_count": 0,
      "outputs": [
        {
          "output_type": "stream",
          "text": [
            "goldfeld quandt test: 0.823\n",
            "p goldfeld quandt: 0.9999992624556044\n"
          ],
          "name": "stdout"
        }
      ]
    },
    {
      "cell_type": "code",
      "metadata": {
        "id": "Oir8wuiVpYLs",
        "colab_type": "code",
        "outputId": "876f836e-dd87-4bd8-b2bc-154c2b898a00",
        "colab": {
          "base_uri": "https://localhost:8080/",
          "height": 271
        }
      },
      "source": [
        "#vif - multicolinearidade\n",
        "vif = [variance_inflation_factor(x.values, i) for i in range(x.shape[1])]\n",
        "vif_df = pd.DataFrame({'vif': vif[1:]}, index=x.columns.drop('const'))\n",
        "\n",
        "def highlight_max(s):\n",
        "  is_max = s > 10\n",
        "  return ['background-color: orange' if v else '' for v in is_max]\n",
        "\n",
        "vif_df.style.apply(highlight_max)"
      ],
      "execution_count": 0,
      "outputs": [
        {
          "output_type": "execute_result",
          "data": {
            "text/html": [
              "<style  type=\"text/css\" >\n",
              "    #T_cd655ba4_a5d1_11ea_9c3f_0242ac1c0002row3_col0 {\n",
              "            background-color:  orange;\n",
              "        }    #T_cd655ba4_a5d1_11ea_9c3f_0242ac1c0002row7_col0 {\n",
              "            background-color:  orange;\n",
              "        }</style><table id=\"T_cd655ba4_a5d1_11ea_9c3f_0242ac1c0002\" ><thead>    <tr>        <th class=\"blank level0\" ></th>        <th class=\"col_heading level0 col0\" >vif</th>    </tr></thead><tbody>\n",
              "                <tr>\n",
              "                        <th id=\"T_cd655ba4_a5d1_11ea_9c3f_0242ac1c0002level0_row0\" class=\"row_heading level0 row0\" >fixed_acidity</th>\n",
              "                        <td id=\"T_cd655ba4_a5d1_11ea_9c3f_0242ac1c0002row0_col0\" class=\"data row0 col0\" >2.691435</td>\n",
              "            </tr>\n",
              "            <tr>\n",
              "                        <th id=\"T_cd655ba4_a5d1_11ea_9c3f_0242ac1c0002level0_row1\" class=\"row_heading level0 row1\" >volatile_acidity</th>\n",
              "                        <td id=\"T_cd655ba4_a5d1_11ea_9c3f_0242ac1c0002row1_col0\" class=\"data row1 col0\" >1.141156</td>\n",
              "            </tr>\n",
              "            <tr>\n",
              "                        <th id=\"T_cd655ba4_a5d1_11ea_9c3f_0242ac1c0002level0_row2\" class=\"row_heading level0 row2\" >citric_acid</th>\n",
              "                        <td id=\"T_cd655ba4_a5d1_11ea_9c3f_0242ac1c0002row2_col0\" class=\"data row2 col0\" >1.165215</td>\n",
              "            </tr>\n",
              "            <tr>\n",
              "                        <th id=\"T_cd655ba4_a5d1_11ea_9c3f_0242ac1c0002level0_row3\" class=\"row_heading level0 row3\" >residual_sugar</th>\n",
              "                        <td id=\"T_cd655ba4_a5d1_11ea_9c3f_0242ac1c0002row3_col0\" class=\"data row3 col0\" >12.644064</td>\n",
              "            </tr>\n",
              "            <tr>\n",
              "                        <th id=\"T_cd655ba4_a5d1_11ea_9c3f_0242ac1c0002level0_row4\" class=\"row_heading level0 row4\" >chlorides</th>\n",
              "                        <td id=\"T_cd655ba4_a5d1_11ea_9c3f_0242ac1c0002row4_col0\" class=\"data row4 col0\" >1.236822</td>\n",
              "            </tr>\n",
              "            <tr>\n",
              "                        <th id=\"T_cd655ba4_a5d1_11ea_9c3f_0242ac1c0002level0_row5\" class=\"row_heading level0 row5\" >free_sulfur_dioxide</th>\n",
              "                        <td id=\"T_cd655ba4_a5d1_11ea_9c3f_0242ac1c0002row5_col0\" class=\"data row5 col0\" >1.787880</td>\n",
              "            </tr>\n",
              "            <tr>\n",
              "                        <th id=\"T_cd655ba4_a5d1_11ea_9c3f_0242ac1c0002level0_row6\" class=\"row_heading level0 row6\" >total_sulfur_dioxide</th>\n",
              "                        <td id=\"T_cd655ba4_a5d1_11ea_9c3f_0242ac1c0002row6_col0\" class=\"data row6 col0\" >2.239233</td>\n",
              "            </tr>\n",
              "            <tr>\n",
              "                        <th id=\"T_cd655ba4_a5d1_11ea_9c3f_0242ac1c0002level0_row7\" class=\"row_heading level0 row7\" >density</th>\n",
              "                        <td id=\"T_cd655ba4_a5d1_11ea_9c3f_0242ac1c0002row7_col0\" class=\"data row7 col0\" >28.232546</td>\n",
              "            </tr>\n",
              "            <tr>\n",
              "                        <th id=\"T_cd655ba4_a5d1_11ea_9c3f_0242ac1c0002level0_row8\" class=\"row_heading level0 row8\" >pH</th>\n",
              "                        <td id=\"T_cd655ba4_a5d1_11ea_9c3f_0242ac1c0002row8_col0\" class=\"data row8 col0\" >2.196362</td>\n",
              "            </tr>\n",
              "            <tr>\n",
              "                        <th id=\"T_cd655ba4_a5d1_11ea_9c3f_0242ac1c0002level0_row9\" class=\"row_heading level0 row9\" >sulphates</th>\n",
              "                        <td id=\"T_cd655ba4_a5d1_11ea_9c3f_0242ac1c0002row9_col0\" class=\"data row9 col0\" >1.138540</td>\n",
              "            </tr>\n",
              "            <tr>\n",
              "                        <th id=\"T_cd655ba4_a5d1_11ea_9c3f_0242ac1c0002level0_row10\" class=\"row_heading level0 row10\" >alcohol</th>\n",
              "                        <td id=\"T_cd655ba4_a5d1_11ea_9c3f_0242ac1c0002row10_col0\" class=\"data row10 col0\" >7.706957</td>\n",
              "            </tr>\n",
              "    </tbody></table>"
            ],
            "text/plain": [
              "<pandas.io.formats.style.Styler at 0x7f041634c320>"
            ]
          },
          "metadata": {
            "tags": []
          },
          "execution_count": 29
        }
      ]
    },
    {
      "cell_type": "code",
      "metadata": {
        "id": "tWJQOA9-HpwI",
        "colab_type": "code",
        "colab": {}
      },
      "source": [
        "#removendo variável 'density'\n",
        "x_var = x_var.drop('density')"
      ],
      "execution_count": 0,
      "outputs": []
    },
    {
      "cell_type": "code",
      "metadata": {
        "id": "fR9hmns0HMdH",
        "colab_type": "code",
        "outputId": "d8d47c4e-945e-40b9-985e-cd5453692e5d",
        "colab": {
          "base_uri": "https://localhost:8080/",
          "height": 633
        }
      },
      "source": [
        "y = df_X[y_var]\n",
        "x = df_X[x_var]\n",
        "x = sm.add_constant(x)\n",
        "\n",
        "model_sm = sm.OLS(y,x).fit()\n",
        "model_sm.summary()"
      ],
      "execution_count": 0,
      "outputs": [
        {
          "output_type": "execute_result",
          "data": {
            "text/html": [
              "<table class=\"simpletable\">\n",
              "<caption>OLS Regression Results</caption>\n",
              "<tr>\n",
              "  <th>Dep. Variable:</th>         <td>quality</td>     <th>  R-squared:         </th> <td>   0.273</td> \n",
              "</tr>\n",
              "<tr>\n",
              "  <th>Model:</th>                   <td>OLS</td>       <th>  Adj. R-squared:    </th> <td>   0.271</td> \n",
              "</tr>\n",
              "<tr>\n",
              "  <th>Method:</th>             <td>Least Squares</td>  <th>  F-statistic:       </th> <td>   183.3</td> \n",
              "</tr>\n",
              "<tr>\n",
              "  <th>Date:</th>             <td>Wed, 03 Jun 2020</td> <th>  Prob (F-statistic):</th>  <td>  0.00</td>  \n",
              "</tr>\n",
              "<tr>\n",
              "  <th>Time:</th>                 <td>19:38:30</td>     <th>  Log-Likelihood:    </th> <td> -5574.7</td> \n",
              "</tr>\n",
              "<tr>\n",
              "  <th>No. Observations:</th>      <td>  4898</td>      <th>  AIC:               </th> <td>1.117e+04</td>\n",
              "</tr>\n",
              "<tr>\n",
              "  <th>Df Residuals:</th>          <td>  4887</td>      <th>  BIC:               </th> <td>1.124e+04</td>\n",
              "</tr>\n",
              "<tr>\n",
              "  <th>Df Model:</th>              <td>    10</td>      <th>                     </th>     <td> </td>    \n",
              "</tr>\n",
              "<tr>\n",
              "  <th>Covariance Type:</th>      <td>nonrobust</td>    <th>                     </th>     <td> </td>    \n",
              "</tr>\n",
              "</table>\n",
              "<table class=\"simpletable\">\n",
              "<tr>\n",
              "            <td></td>              <th>coef</th>     <th>std err</th>      <th>t</th>      <th>P>|t|</th>  <th>[0.025</th>    <th>0.975]</th>  \n",
              "</tr>\n",
              "<tr>\n",
              "  <th>const</th>                <td>    5.8779</td> <td>    0.011</td> <td>  544.113</td> <td> 0.000</td> <td>    5.857</td> <td>    5.899</td>\n",
              "</tr>\n",
              "<tr>\n",
              "  <th>fixed_acidity</th>        <td>   -0.0425</td> <td>    0.013</td> <td>   -3.375</td> <td> 0.001</td> <td>   -0.067</td> <td>   -0.018</td>\n",
              "</tr>\n",
              "<tr>\n",
              "  <th>volatile_acidity</th>     <td>   -0.1974</td> <td>    0.011</td> <td>  -17.200</td> <td> 0.000</td> <td>   -0.220</td> <td>   -0.175</td>\n",
              "</tr>\n",
              "<tr>\n",
              "  <th>citric_acid</th>          <td>   -0.0035</td> <td>    0.012</td> <td>   -0.301</td> <td> 0.763</td> <td>   -0.026</td> <td>    0.019</td>\n",
              "</tr>\n",
              "<tr>\n",
              "  <th>residual_sugar</th>       <td>    0.1301</td> <td>    0.013</td> <td>   10.049</td> <td> 0.000</td> <td>    0.105</td> <td>    0.155</td>\n",
              "</tr>\n",
              "<tr>\n",
              "  <th>chlorides</th>            <td>   -0.0208</td> <td>    0.012</td> <td>   -1.756</td> <td> 0.079</td> <td>   -0.044</td> <td>    0.002</td>\n",
              "</tr>\n",
              "<tr>\n",
              "  <th>free_sulfur_dioxide</th>  <td>    0.0811</td> <td>    0.014</td> <td>    5.682</td> <td> 0.000</td> <td>    0.053</td> <td>    0.109</td>\n",
              "</tr>\n",
              "<tr>\n",
              "  <th>total_sulfur_dioxide</th> <td>   -0.0370</td> <td>    0.016</td> <td>   -2.331</td> <td> 0.020</td> <td>   -0.068</td> <td>   -0.006</td>\n",
              "</tr>\n",
              "<tr>\n",
              "  <th>pH</th>                   <td>    0.0249</td> <td>    0.012</td> <td>    2.001</td> <td> 0.045</td> <td>    0.001</td> <td>    0.049</td>\n",
              "</tr>\n",
              "<tr>\n",
              "  <th>sulphates</th>            <td>    0.0479</td> <td>    0.011</td> <td>    4.309</td> <td> 0.000</td> <td>    0.026</td> <td>    0.070</td>\n",
              "</tr>\n",
              "<tr>\n",
              "  <th>alcohol</th>              <td>    0.4463</td> <td>    0.014</td> <td>   32.190</td> <td> 0.000</td> <td>    0.419</td> <td>    0.473</td>\n",
              "</tr>\n",
              "</table>\n",
              "<table class=\"simpletable\">\n",
              "<tr>\n",
              "  <th>Omnibus:</th>       <td>108.848</td> <th>  Durbin-Watson:     </th> <td>   1.624</td>\n",
              "</tr>\n",
              "<tr>\n",
              "  <th>Prob(Omnibus):</th> <td> 0.000</td>  <th>  Jarque-Bera (JB):  </th> <td> 236.178</td>\n",
              "</tr>\n",
              "<tr>\n",
              "  <th>Skew:</th>          <td> 0.065</td>  <th>  Prob(JB):          </th> <td>5.18e-52</td>\n",
              "</tr>\n",
              "<tr>\n",
              "  <th>Kurtosis:</th>      <td> 4.068</td>  <th>  Cond. No.          </th> <td>    2.93</td>\n",
              "</tr>\n",
              "</table><br/><br/>Warnings:<br/>[1] Standard Errors assume that the covariance matrix of the errors is correctly specified."
            ],
            "text/plain": [
              "<class 'statsmodels.iolib.summary.Summary'>\n",
              "\"\"\"\n",
              "                            OLS Regression Results                            \n",
              "==============================================================================\n",
              "Dep. Variable:                quality   R-squared:                       0.273\n",
              "Model:                            OLS   Adj. R-squared:                  0.271\n",
              "Method:                 Least Squares   F-statistic:                     183.3\n",
              "Date:                Wed, 03 Jun 2020   Prob (F-statistic):               0.00\n",
              "Time:                        19:38:30   Log-Likelihood:                -5574.7\n",
              "No. Observations:                4898   AIC:                         1.117e+04\n",
              "Df Residuals:                    4887   BIC:                         1.124e+04\n",
              "Df Model:                          10                                         \n",
              "Covariance Type:            nonrobust                                         \n",
              "========================================================================================\n",
              "                           coef    std err          t      P>|t|      [0.025      0.975]\n",
              "----------------------------------------------------------------------------------------\n",
              "const                    5.8779      0.011    544.113      0.000       5.857       5.899\n",
              "fixed_acidity           -0.0425      0.013     -3.375      0.001      -0.067      -0.018\n",
              "volatile_acidity        -0.1974      0.011    -17.200      0.000      -0.220      -0.175\n",
              "citric_acid             -0.0035      0.012     -0.301      0.763      -0.026       0.019\n",
              "residual_sugar           0.1301      0.013     10.049      0.000       0.105       0.155\n",
              "chlorides               -0.0208      0.012     -1.756      0.079      -0.044       0.002\n",
              "free_sulfur_dioxide      0.0811      0.014      5.682      0.000       0.053       0.109\n",
              "total_sulfur_dioxide    -0.0370      0.016     -2.331      0.020      -0.068      -0.006\n",
              "pH                       0.0249      0.012      2.001      0.045       0.001       0.049\n",
              "sulphates                0.0479      0.011      4.309      0.000       0.026       0.070\n",
              "alcohol                  0.4463      0.014     32.190      0.000       0.419       0.473\n",
              "==============================================================================\n",
              "Omnibus:                      108.848   Durbin-Watson:                   1.624\n",
              "Prob(Omnibus):                  0.000   Jarque-Bera (JB):              236.178\n",
              "Skew:                           0.065   Prob(JB):                     5.18e-52\n",
              "Kurtosis:                       4.068   Cond. No.                         2.93\n",
              "==============================================================================\n",
              "\n",
              "Warnings:\n",
              "[1] Standard Errors assume that the covariance matrix of the errors is correctly specified.\n",
              "\"\"\""
            ]
          },
          "metadata": {
            "tags": []
          },
          "execution_count": 31
        }
      ]
    },
    {
      "cell_type": "markdown",
      "metadata": {
        "id": "FpTaBUTqrdkt",
        "colab_type": "text"
      },
      "source": [
        "### Removendo variáveis pelo p-valor"
      ]
    },
    {
      "cell_type": "code",
      "metadata": {
        "id": "aVo9cq58N9Qz",
        "colab_type": "code",
        "colab": {}
      },
      "source": [
        "variables = x_var\n",
        "target = y_var\n",
        "pvalue_limit_number = 0.05\n",
        "\n",
        "while len(variables) > 0:\n",
        "  y = df_X[y_var]\n",
        "  x = df_X[variables]\n",
        "  x = sm.add_constant(x)\n",
        "  model_sm = sm.OLS(y, x).fit()\n",
        "  var_model = model_sm.pvalues.drop('const', axis=0)\n",
        "  df_pvalue = pd.DataFrame(var_model, columns=['valor'])\n",
        "  pvalue_max = df_pvalue.loc[df_pvalue.valor > pvalue_limit_number]\n",
        "  var_max = pvalue_max.index\n",
        "  if len(var_max) > 0:\n",
        "    variables = variables.drop(var_max)\n",
        "  else:\n",
        "    break"
      ],
      "execution_count": 0,
      "outputs": []
    },
    {
      "cell_type": "code",
      "metadata": {
        "id": "iQu4dT14Ih-g",
        "colab_type": "code",
        "outputId": "6c0e0cca-5740-4a41-8425-7892fad4a225",
        "colab": {
          "base_uri": "https://localhost:8080/",
          "height": 591
        }
      },
      "source": [
        "model_sm.summary()"
      ],
      "execution_count": 0,
      "outputs": [
        {
          "output_type": "execute_result",
          "data": {
            "text/html": [
              "<table class=\"simpletable\">\n",
              "<caption>OLS Regression Results</caption>\n",
              "<tr>\n",
              "  <th>Dep. Variable:</th>         <td>quality</td>     <th>  R-squared:         </th> <td>   0.272</td> \n",
              "</tr>\n",
              "<tr>\n",
              "  <th>Model:</th>                   <td>OLS</td>       <th>  Adj. R-squared:    </th> <td>   0.271</td> \n",
              "</tr>\n",
              "<tr>\n",
              "  <th>Method:</th>             <td>Least Squares</td>  <th>  F-statistic:       </th> <td>   228.6</td> \n",
              "</tr>\n",
              "<tr>\n",
              "  <th>Date:</th>             <td>Wed, 03 Jun 2020</td> <th>  Prob (F-statistic):</th>  <td>  0.00</td>  \n",
              "</tr>\n",
              "<tr>\n",
              "  <th>Time:</th>                 <td>19:38:31</td>     <th>  Log-Likelihood:    </th> <td> -5576.3</td> \n",
              "</tr>\n",
              "<tr>\n",
              "  <th>No. Observations:</th>      <td>  4898</td>      <th>  AIC:               </th> <td>1.117e+04</td>\n",
              "</tr>\n",
              "<tr>\n",
              "  <th>Df Residuals:</th>          <td>  4889</td>      <th>  BIC:               </th> <td>1.123e+04</td>\n",
              "</tr>\n",
              "<tr>\n",
              "  <th>Df Model:</th>              <td>     8</td>      <th>                     </th>     <td> </td>    \n",
              "</tr>\n",
              "<tr>\n",
              "  <th>Covariance Type:</th>      <td>nonrobust</td>    <th>                     </th>     <td> </td>    \n",
              "</tr>\n",
              "</table>\n",
              "<table class=\"simpletable\">\n",
              "<tr>\n",
              "            <td></td>              <th>coef</th>     <th>std err</th>      <th>t</th>      <th>P>|t|</th>  <th>[0.025</th>    <th>0.975]</th>  \n",
              "</tr>\n",
              "<tr>\n",
              "  <th>const</th>                <td>    5.8779</td> <td>    0.011</td> <td>  544.038</td> <td> 0.000</td> <td>    5.857</td> <td>    5.899</td>\n",
              "</tr>\n",
              "<tr>\n",
              "  <th>fixed_acidity</th>        <td>   -0.0422</td> <td>    0.012</td> <td>   -3.461</td> <td> 0.001</td> <td>   -0.066</td> <td>   -0.018</td>\n",
              "</tr>\n",
              "<tr>\n",
              "  <th>volatile_acidity</th>     <td>   -0.1988</td> <td>    0.011</td> <td>  -17.665</td> <td> 0.000</td> <td>   -0.221</td> <td>   -0.177</td>\n",
              "</tr>\n",
              "<tr>\n",
              "  <th>residual_sugar</th>       <td>    0.1327</td> <td>    0.013</td> <td>   10.349</td> <td> 0.000</td> <td>    0.108</td> <td>    0.158</td>\n",
              "</tr>\n",
              "<tr>\n",
              "  <th>free_sulfur_dioxide</th>  <td>    0.0808</td> <td>    0.014</td> <td>    5.662</td> <td> 0.000</td> <td>    0.053</td> <td>    0.109</td>\n",
              "</tr>\n",
              "<tr>\n",
              "  <th>total_sulfur_dioxide</th> <td>   -0.0387</td> <td>    0.016</td> <td>   -2.445</td> <td> 0.015</td> <td>   -0.070</td> <td>   -0.008</td>\n",
              "</tr>\n",
              "<tr>\n",
              "  <th>pH</th>                   <td>    0.0271</td> <td>    0.012</td> <td>    2.184</td> <td> 0.029</td> <td>    0.003</td> <td>    0.051</td>\n",
              "</tr>\n",
              "<tr>\n",
              "  <th>sulphates</th>            <td>    0.0474</td> <td>    0.011</td> <td>    4.273</td> <td> 0.000</td> <td>    0.026</td> <td>    0.069</td>\n",
              "</tr>\n",
              "<tr>\n",
              "  <th>alcohol</th>              <td>    0.4543</td> <td>    0.013</td> <td>   34.834</td> <td> 0.000</td> <td>    0.429</td> <td>    0.480</td>\n",
              "</tr>\n",
              "</table>\n",
              "<table class=\"simpletable\">\n",
              "<tr>\n",
              "  <th>Omnibus:</th>       <td>108.709</td> <th>  Durbin-Watson:     </th> <td>   1.623</td>\n",
              "</tr>\n",
              "<tr>\n",
              "  <th>Prob(Omnibus):</th> <td> 0.000</td>  <th>  Jarque-Bera (JB):  </th> <td> 235.304</td>\n",
              "</tr>\n",
              "<tr>\n",
              "  <th>Skew:</th>          <td> 0.067</td>  <th>  Prob(JB):          </th> <td>8.02e-52</td>\n",
              "</tr>\n",
              "<tr>\n",
              "  <th>Kurtosis:</th>      <td> 4.065</td>  <th>  Cond. No.          </th> <td>    2.82</td>\n",
              "</tr>\n",
              "</table><br/><br/>Warnings:<br/>[1] Standard Errors assume that the covariance matrix of the errors is correctly specified."
            ],
            "text/plain": [
              "<class 'statsmodels.iolib.summary.Summary'>\n",
              "\"\"\"\n",
              "                            OLS Regression Results                            \n",
              "==============================================================================\n",
              "Dep. Variable:                quality   R-squared:                       0.272\n",
              "Model:                            OLS   Adj. R-squared:                  0.271\n",
              "Method:                 Least Squares   F-statistic:                     228.6\n",
              "Date:                Wed, 03 Jun 2020   Prob (F-statistic):               0.00\n",
              "Time:                        19:38:31   Log-Likelihood:                -5576.3\n",
              "No. Observations:                4898   AIC:                         1.117e+04\n",
              "Df Residuals:                    4889   BIC:                         1.123e+04\n",
              "Df Model:                           8                                         \n",
              "Covariance Type:            nonrobust                                         \n",
              "========================================================================================\n",
              "                           coef    std err          t      P>|t|      [0.025      0.975]\n",
              "----------------------------------------------------------------------------------------\n",
              "const                    5.8779      0.011    544.038      0.000       5.857       5.899\n",
              "fixed_acidity           -0.0422      0.012     -3.461      0.001      -0.066      -0.018\n",
              "volatile_acidity        -0.1988      0.011    -17.665      0.000      -0.221      -0.177\n",
              "residual_sugar           0.1327      0.013     10.349      0.000       0.108       0.158\n",
              "free_sulfur_dioxide      0.0808      0.014      5.662      0.000       0.053       0.109\n",
              "total_sulfur_dioxide    -0.0387      0.016     -2.445      0.015      -0.070      -0.008\n",
              "pH                       0.0271      0.012      2.184      0.029       0.003       0.051\n",
              "sulphates                0.0474      0.011      4.273      0.000       0.026       0.069\n",
              "alcohol                  0.4543      0.013     34.834      0.000       0.429       0.480\n",
              "==============================================================================\n",
              "Omnibus:                      108.709   Durbin-Watson:                   1.623\n",
              "Prob(Omnibus):                  0.000   Jarque-Bera (JB):              235.304\n",
              "Skew:                           0.067   Prob(JB):                     8.02e-52\n",
              "Kurtosis:                       4.065   Cond. No.                         2.82\n",
              "==============================================================================\n",
              "\n",
              "Warnings:\n",
              "[1] Standard Errors assume that the covariance matrix of the errors is correctly specified.\n",
              "\"\"\""
            ]
          },
          "metadata": {
            "tags": []
          },
          "execution_count": 33
        }
      ]
    }
  ]
}